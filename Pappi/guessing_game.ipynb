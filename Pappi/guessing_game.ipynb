{
 "cells": [
  {
   "cell_type": "code",
   "execution_count": 24,
   "id": "fc252535",
   "metadata": {},
   "outputs": [],
   "source": [
    "import random as r"
   ]
  },
  {
   "cell_type": "code",
   "execution_count": null,
   "id": "6ef141b5",
   "metadata": {},
   "outputs": [
    {
     "name": "stdout",
     "output_type": "stream",
     "text": [
      "I am thinking of a number between 1 and 10\n",
      "Take a guess:5\n",
      "too high, Try again\n",
      "you have  3  attempts left\n",
      "Take a guess:3\n",
      "too high, Try again\n",
      "you have  2  attempts left\n",
      "Take a guess:1\n",
      "Too low, Try again.\n",
      "you have  1  attempts left\n"
     ]
    }
   ],
   "source": [
    "secret_number = r.randint(1,10)\n",
    "attempts = 4\n",
    "print(\"I am thinking of a number between 1 and 10\")\n",
    "\n",
    "while attempts > 0:\n",
    "    guess = int(input(\"Take a guess:\"))\n",
    "    if guess == secret_number:\n",
    "        print(\"Congratulations, you got the right number\")\n",
    "        attempts = 0\n",
    "    elif guess < secret_number:\n",
    "        print(\"Too low, Try again.\")\n",
    "    else:\n",
    "        print(\"too high, Try again\")\n",
    "    attempts -= 1\n",
    "    if guess != secret_number:\n",
    "        print(\"you have \", attempts ,\" attempts left\")\n",
    "if attempts == 0 and guess != secret_number:\n",
    "    print(\"sorry, you've run out of attempts\")"
   ]
  },
  {
   "cell_type": "code",
   "execution_count": null,
   "id": "f437bbdd",
   "metadata": {},
   "outputs": [],
   "source": []
  }
 ],
 "metadata": {
  "kernelspec": {
   "display_name": "Python 3 (ipykernel)",
   "language": "python",
   "name": "python3"
  },
  "language_info": {
   "codemirror_mode": {
    "name": "ipython",
    "version": 3
   },
   "file_extension": ".py",
   "mimetype": "text/x-python",
   "name": "python",
   "nbconvert_exporter": "python",
   "pygments_lexer": "ipython3",
   "version": "3.13.6"
  }
 },
 "nbformat": 4,
 "nbformat_minor": 5
}
